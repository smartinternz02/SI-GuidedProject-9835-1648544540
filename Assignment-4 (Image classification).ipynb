{
 "cells": [
  {
   "cell_type": "code",
   "execution_count": 116,
   "id": "cea0c3b8",
   "metadata": {},
   "outputs": [],
   "source": [
    "from tensorflow.keras.models import Sequential\n",
    "from tensorflow.keras.layers import Dense\n",
    "from tensorflow.keras.layers import Convolution2D\n",
    "from tensorflow.keras.layers import MaxPooling2D\n",
    "from tensorflow.keras.layers import Flatten"
   ]
  },
  {
   "cell_type": "code",
   "execution_count": 117,
   "id": "a86fe6d8",
   "metadata": {},
   "outputs": [],
   "source": [
    "from keras.preprocessing.image import ImageDataGenerator"
   ]
  },
  {
   "cell_type": "code",
   "execution_count": 118,
   "id": "1f802a65",
   "metadata": {},
   "outputs": [],
   "source": [
    "train_datagen=ImageDataGenerator(rescale=1./255,shear_range=0.2,zoom_range=0.2,horizontal_flip=True)\n",
    "test_datagen=ImageDataGenerator(rescale=1./255)"
   ]
  },
  {
   "cell_type": "code",
   "execution_count": 272,
   "id": "0adb1edf",
   "metadata": {},
   "outputs": [
    {
     "name": "stdout",
     "output_type": "stream",
     "text": [
      "Found 2785 images belonging to 10 classes.\n",
      "Found 980 images belonging to 10 classes.\n"
     ]
    }
   ],
   "source": [
    "x_train=train_datagen.flow_from_directory(r\"C:\\Users\\ADMIN\\Downloads\\Crop-animal data-20210317T071621Z-001\\Crop-animal data\\trainset\",target_size=(96,96),batch_size=32,class_mode=\"categorical\")\n",
    "\n",
    "x_test=test_datagen.flow_from_directory(r\"C:\\Users\\ADMIN\\Downloads\\Crop-animal data-20210317T071621Z-001\\Crop-animal data\\testset\",target_size=(96,96),batch_size=32,class_mode=\"categorical\")"
   ]
  },
  {
   "cell_type": "code",
   "execution_count": 273,
   "id": "b77b661f",
   "metadata": {},
   "outputs": [
    {
     "name": "stdout",
     "output_type": "stream",
     "text": [
      "{'bears': 0, 'cats': 1, 'crows': 2, 'dogs': 3, 'elephants': 4, 'lion': 5, 'panda': 6, 'racoons': 7, 'rats': 8, 'tiger': 9}\n"
     ]
    }
   ],
   "source": [
    "print(x_train.class_indices)"
   ]
  },
  {
   "cell_type": "code",
   "execution_count": 274,
   "id": "4b55888c",
   "metadata": {},
   "outputs": [
    {
     "name": "stdout",
     "output_type": "stream",
     "text": [
      "{'bears': 0, 'cats': 1, 'crows': 2, 'dogs': 3, 'elephants': 4, 'lion': 5, 'panda': 6, 'racoons': 7, 'rats': 8, 'tiger': 9}\n"
     ]
    }
   ],
   "source": [
    "print(x_test.class_indices)"
   ]
  },
  {
   "cell_type": "code",
   "execution_count": 275,
   "id": "f09f1589",
   "metadata": {},
   "outputs": [],
   "source": [
    "model=Sequential()"
   ]
  },
  {
   "cell_type": "code",
   "execution_count": 276,
   "id": "5767c177",
   "metadata": {},
   "outputs": [],
   "source": [
    "model.add(Convolution2D(32,(3,3),input_shape=(96,96,3),activation=\"relu\"))"
   ]
  },
  {
   "cell_type": "code",
   "execution_count": 277,
   "id": "4b11a2e1",
   "metadata": {},
   "outputs": [],
   "source": [
    "model.add(MaxPooling2D(pool_size=(2,2)))"
   ]
  },
  {
   "cell_type": "code",
   "execution_count": 278,
   "id": "f069b565",
   "metadata": {},
   "outputs": [],
   "source": [
    "model.add(Flatten())"
   ]
  },
  {
   "cell_type": "code",
   "execution_count": 279,
   "id": "bddbe02b",
   "metadata": {},
   "outputs": [],
   "source": [
    "model.add(Dense(units=150,activation=\"relu\")) #hidden layer"
   ]
  },
  {
   "cell_type": "code",
   "execution_count": 280,
   "id": "ca4ded4d",
   "metadata": {},
   "outputs": [],
   "source": [
    "model.add(Dense(units=10,activation=\"softmax\")) #output layer"
   ]
  },
  {
   "cell_type": "code",
   "execution_count": 282,
   "id": "bbd3c171",
   "metadata": {},
   "outputs": [
    {
     "name": "stdout",
     "output_type": "stream",
     "text": [
      "Model: \"sequential_6\"\n",
      "_________________________________________________________________\n",
      " Layer (type)                Output Shape              Param #   \n",
      "=================================================================\n",
      " conv2d_6 (Conv2D)           (None, 94, 94, 32)        896       \n",
      "                                                                 \n",
      " max_pooling2d_5 (MaxPooling  (None, 47, 47, 32)       0         \n",
      " 2D)                                                             \n",
      "                                                                 \n",
      " flatten_5 (Flatten)         (None, 70688)             0         \n",
      "                                                                 \n",
      " dense_14 (Dense)            (None, 150)               10603350  \n",
      "                                                                 \n",
      " dense_15 (Dense)            (None, 10)                1510      \n",
      "                                                                 \n",
      "=================================================================\n",
      "Total params: 10,605,756\n",
      "Trainable params: 10,605,756\n",
      "Non-trainable params: 0\n",
      "_________________________________________________________________\n"
     ]
    }
   ],
   "source": [
    "model.summary()"
   ]
  },
  {
   "cell_type": "code",
   "execution_count": 283,
   "id": "5363d1eb",
   "metadata": {},
   "outputs": [],
   "source": [
    "model.compile(loss=\"categorical_crossentropy\",optimizer=\"adam\",metrics=[\"accuracy\"])"
   ]
  },
  {
   "cell_type": "code",
   "execution_count": 284,
   "id": "f2c13da0",
   "metadata": {},
   "outputs": [
    {
     "name": "stdout",
     "output_type": "stream",
     "text": [
      "Epoch 1/50\n",
      "88/88 [==============================] - 226s 3s/step - loss: 3.1960 - accuracy: 0.1838 - val_loss: 1.8775 - val_accuracy: 0.3276\n",
      "Epoch 2/50\n",
      "88/88 [==============================] - 45s 507ms/step - loss: 1.8176 - accuracy: 0.3487 - val_loss: 1.7864 - val_accuracy: 0.3694\n",
      "Epoch 3/50\n",
      "88/88 [==============================] - 33s 376ms/step - loss: 1.7686 - accuracy: 0.3846 - val_loss: 1.6791 - val_accuracy: 0.4224\n",
      "Epoch 4/50\n",
      "88/88 [==============================] - 34s 382ms/step - loss: 1.4302 - accuracy: 0.4941 - val_loss: 1.3509 - val_accuracy: 0.5357\n",
      "Epoch 5/50\n",
      "88/88 [==============================] - 33s 377ms/step - loss: 1.2928 - accuracy: 0.5472 - val_loss: 1.3009 - val_accuracy: 0.5520\n",
      "Epoch 6/50\n",
      "88/88 [==============================] - 31s 353ms/step - loss: 1.1916 - accuracy: 0.5903 - val_loss: 1.2400 - val_accuracy: 0.5806\n",
      "Epoch 7/50\n",
      "88/88 [==============================] - 33s 375ms/step - loss: 1.1353 - accuracy: 0.5968 - val_loss: 1.4055 - val_accuracy: 0.5245\n",
      "Epoch 8/50\n",
      "88/88 [==============================] - 31s 357ms/step - loss: 1.0469 - accuracy: 0.6244 - val_loss: 1.1587 - val_accuracy: 0.6163\n",
      "Epoch 9/50\n",
      "88/88 [==============================] - 33s 375ms/step - loss: 1.0251 - accuracy: 0.6399 - val_loss: 1.1636 - val_accuracy: 0.6082\n",
      "Epoch 10/50\n",
      "88/88 [==============================] - 33s 368ms/step - loss: 1.0422 - accuracy: 0.6399 - val_loss: 1.1964 - val_accuracy: 0.6061\n",
      "Epoch 11/50\n",
      "88/88 [==============================] - 36s 410ms/step - loss: 0.8917 - accuracy: 0.6837 - val_loss: 1.0086 - val_accuracy: 0.6776\n",
      "Epoch 12/50\n",
      "88/88 [==============================] - 39s 449ms/step - loss: 0.8651 - accuracy: 0.6959 - val_loss: 0.9344 - val_accuracy: 0.6551\n",
      "Epoch 13/50\n",
      "88/88 [==============================] - 40s 453ms/step - loss: 0.7669 - accuracy: 0.7303 - val_loss: 0.9439 - val_accuracy: 0.6776\n",
      "Epoch 14/50\n",
      "88/88 [==============================] - 41s 460ms/step - loss: 0.7820 - accuracy: 0.7253 - val_loss: 0.9736 - val_accuracy: 0.6816\n",
      "Epoch 15/50\n",
      "88/88 [==============================] - 33s 377ms/step - loss: 0.7379 - accuracy: 0.7415 - val_loss: 0.7019 - val_accuracy: 0.7582\n",
      "Epoch 16/50\n",
      "88/88 [==============================] - 35s 403ms/step - loss: 0.6928 - accuracy: 0.7519 - val_loss: 0.7797 - val_accuracy: 0.7265\n",
      "Epoch 17/50\n",
      "88/88 [==============================] - 39s 445ms/step - loss: 0.6747 - accuracy: 0.7623 - val_loss: 0.6766 - val_accuracy: 0.7694\n",
      "Epoch 18/50\n",
      "88/88 [==============================] - 35s 404ms/step - loss: 0.6627 - accuracy: 0.7702 - val_loss: 0.6695 - val_accuracy: 0.7714\n",
      "Epoch 19/50\n",
      "88/88 [==============================] - 32s 360ms/step - loss: 0.6227 - accuracy: 0.7896 - val_loss: 0.7018 - val_accuracy: 0.7469\n",
      "Epoch 20/50\n",
      "88/88 [==============================] - 32s 360ms/step - loss: 0.5781 - accuracy: 0.8093 - val_loss: 0.6225 - val_accuracy: 0.8102\n",
      "Epoch 21/50\n",
      "88/88 [==============================] - 33s 374ms/step - loss: 0.5891 - accuracy: 0.7867 - val_loss: 0.6250 - val_accuracy: 0.7990\n",
      "Epoch 22/50\n",
      "88/88 [==============================] - 32s 363ms/step - loss: 0.5598 - accuracy: 0.7989 - val_loss: 0.6131 - val_accuracy: 0.8031\n",
      "Epoch 23/50\n",
      "88/88 [==============================] - 31s 357ms/step - loss: 0.5044 - accuracy: 0.8237 - val_loss: 0.5818 - val_accuracy: 0.8000\n",
      "Epoch 24/50\n",
      "88/88 [==============================] - 32s 360ms/step - loss: 0.4659 - accuracy: 0.8334 - val_loss: 0.4366 - val_accuracy: 0.8500\n",
      "Epoch 25/50\n",
      "88/88 [==============================] - 31s 358ms/step - loss: 0.4235 - accuracy: 0.8571 - val_loss: 0.4696 - val_accuracy: 0.8296\n",
      "Epoch 26/50\n",
      "88/88 [==============================] - 33s 375ms/step - loss: 0.4289 - accuracy: 0.8481 - val_loss: 0.4709 - val_accuracy: 0.8337\n",
      "Epoch 27/50\n",
      "88/88 [==============================] - 37s 424ms/step - loss: 0.4198 - accuracy: 0.8589 - val_loss: 0.3471 - val_accuracy: 0.8796\n",
      "Epoch 28/50\n",
      "88/88 [==============================] - 40s 456ms/step - loss: 0.3945 - accuracy: 0.8783 - val_loss: 0.5922 - val_accuracy: 0.8102\n",
      "Epoch 29/50\n",
      "88/88 [==============================] - 37s 427ms/step - loss: 0.4117 - accuracy: 0.8549 - val_loss: 0.3188 - val_accuracy: 0.8990\n",
      "Epoch 30/50\n",
      "88/88 [==============================] - 38s 431ms/step - loss: 0.4557 - accuracy: 0.8420 - val_loss: 0.4745 - val_accuracy: 0.8316\n",
      "Epoch 31/50\n",
      "88/88 [==============================] - 34s 389ms/step - loss: 0.3846 - accuracy: 0.8718 - val_loss: 0.4279 - val_accuracy: 0.8408\n",
      "Epoch 32/50\n",
      "88/88 [==============================] - 31s 356ms/step - loss: 0.3595 - accuracy: 0.8808 - val_loss: 0.3647 - val_accuracy: 0.8673\n",
      "Epoch 33/50\n",
      "88/88 [==============================] - 32s 370ms/step - loss: 0.3490 - accuracy: 0.8862 - val_loss: 0.4112 - val_accuracy: 0.8643\n",
      "Epoch 34/50\n",
      "88/88 [==============================] - 31s 345ms/step - loss: 0.3824 - accuracy: 0.8668 - val_loss: 0.4238 - val_accuracy: 0.8622\n",
      "Epoch 35/50\n",
      "88/88 [==============================] - 31s 350ms/step - loss: 0.5476 - accuracy: 0.8115 - val_loss: 0.5705 - val_accuracy: 0.8102\n",
      "Epoch 36/50\n",
      "88/88 [==============================] - 32s 362ms/step - loss: 0.4159 - accuracy: 0.8575 - val_loss: 0.5060 - val_accuracy: 0.8418\n",
      "Epoch 37/50\n",
      "88/88 [==============================] - 33s 372ms/step - loss: 0.3046 - accuracy: 0.8973 - val_loss: 0.3328 - val_accuracy: 0.9061\n",
      "Epoch 38/50\n",
      "88/88 [==============================] - 33s 376ms/step - loss: 0.2916 - accuracy: 0.9059 - val_loss: 0.2547 - val_accuracy: 0.9163\n",
      "Epoch 39/50\n",
      "88/88 [==============================] - 32s 363ms/step - loss: 0.2466 - accuracy: 0.9113 - val_loss: 0.2752 - val_accuracy: 0.9122\n",
      "Epoch 40/50\n",
      "88/88 [==============================] - 31s 358ms/step - loss: 0.2769 - accuracy: 0.9160 - val_loss: 0.4914 - val_accuracy: 0.8459\n",
      "Epoch 41/50\n",
      "88/88 [==============================] - 32s 370ms/step - loss: 0.2527 - accuracy: 0.9192 - val_loss: 0.2021 - val_accuracy: 0.9316\n",
      "Epoch 42/50\n",
      "88/88 [==============================] - 32s 361ms/step - loss: 0.2375 - accuracy: 0.9228 - val_loss: 0.3165 - val_accuracy: 0.9133\n",
      "Epoch 43/50\n",
      "88/88 [==============================] - 31s 357ms/step - loss: 0.2486 - accuracy: 0.9192 - val_loss: 0.5006 - val_accuracy: 0.8408\n",
      "Epoch 44/50\n",
      "88/88 [==============================] - 32s 359ms/step - loss: 0.2271 - accuracy: 0.9221 - val_loss: 0.3449 - val_accuracy: 0.9000\n",
      "Epoch 45/50\n",
      "88/88 [==============================] - 33s 379ms/step - loss: 0.2272 - accuracy: 0.9235 - val_loss: 0.4824 - val_accuracy: 0.8255\n",
      "Epoch 46/50\n",
      "88/88 [==============================] - 32s 359ms/step - loss: 0.2158 - accuracy: 0.9303 - val_loss: 0.2274 - val_accuracy: 0.9276\n",
      "Epoch 47/50\n",
      "88/88 [==============================] - 31s 358ms/step - loss: 0.1978 - accuracy: 0.9311 - val_loss: 0.2779 - val_accuracy: 0.9163\n",
      "Epoch 48/50\n",
      "88/88 [==============================] - 32s 362ms/step - loss: 0.1932 - accuracy: 0.9329 - val_loss: 0.2391 - val_accuracy: 0.9286\n",
      "Epoch 49/50\n",
      "88/88 [==============================] - 33s 369ms/step - loss: 0.2158 - accuracy: 0.9332 - val_loss: 0.2948 - val_accuracy: 0.9204\n",
      "Epoch 50/50\n",
      "88/88 [==============================] - 32s 361ms/step - loss: 0.1757 - accuracy: 0.9454 - val_loss: 0.3644 - val_accuracy: 0.8878\n"
     ]
    },
    {
     "data": {
      "text/plain": [
       "<keras.callbacks.History at 0x20780148f10>"
      ]
     },
     "execution_count": 284,
     "metadata": {},
     "output_type": "execute_result"
    }
   ],
   "source": [
    "model.fit(x_train,steps_per_epoch=88,epochs=50,validation_data=x_test,validation_steps=31)"
   ]
  },
  {
   "cell_type": "code",
   "execution_count": null,
   "id": "540b7ab7",
   "metadata": {},
   "outputs": [],
   "source": [
    "original dataset have 10000 images batch size=32\n",
    "steps_per_epoch=10000/32(no. of images in training set/batchsize=2785/40=70)\n",
    "validation steps=no. of images in testing set/batchsize=980/40=25"
   ]
  },
  {
   "cell_type": "code",
   "execution_count": 285,
   "id": "3ed3340a",
   "metadata": {},
   "outputs": [
    {
     "name": "stdout",
     "output_type": "stream",
     "text": [
      "INFO:tensorflow:Assets written to: assignment.h10\\assets\n"
     ]
    }
   ],
   "source": [
    "model.save(\"assignment.h10\")"
   ]
  },
  {
   "cell_type": "code",
   "execution_count": 286,
   "id": "b8353109",
   "metadata": {},
   "outputs": [],
   "source": [
    "from tensorflow.keras.models import load_model\n",
    "from keras.preprocessing import image\n",
    "import numpy as np"
   ]
  },
  {
   "cell_type": "code",
   "execution_count": 287,
   "id": "e11e08b0",
   "metadata": {},
   "outputs": [],
   "source": [
    "model=load_model(\"assignment.h10\")"
   ]
  },
  {
   "cell_type": "code",
   "execution_count": 312,
   "id": "fa06bb0d",
   "metadata": {},
   "outputs": [],
   "source": [
    "img=image.load_img(r\"lion1.jpg\",target_size=(96,96))"
   ]
  },
  {
   "cell_type": "code",
   "execution_count": 313,
   "id": "92bee39c",
   "metadata": {},
   "outputs": [
    {
     "data": {
      "image/png": "[encoded data removed]",
      "text/plain": [
       "<PIL.Image.Image image mode=RGB size=96x96 at 0x20783303C70>"
      ]
     },
     "execution_count": 313,
     "metadata": {},
     "output_type": "execute_result"
    }
   ],
   "source": [
    "img\n"
   ]
  },
  {
   "cell_type": "code",
   "execution_count": 314,
   "id": "44445f4f",
   "metadata": {},
   "outputs": [],
   "source": [
    "x=image.img_to_array(img)"
   ]
  },
  {
   "cell_type": "code",
   "execution_count": 315,
   "id": "d3541a1a",
   "metadata": {},
   "outputs": [
    {
     "data": {
      "text/plain": [
       "array([[[255., 255., 255.],\n",
       "        [255., 255., 255.],\n",
       "        [255., 255., 255.],\n",
       "        ...,\n",
       "        [255., 255., 255.],\n",
       "        [255., 255., 255.],\n",
       "        [255., 255., 255.]],\n",
       "\n",
       "       [[255., 255., 255.],\n",
       "        [255., 255., 255.],\n",
       "        [255., 255., 255.],\n",
       "        ...,\n",
       "        [255., 255., 255.],\n",
       "        [255., 255., 255.],\n",
       "        [255., 255., 255.]],\n",
       "\n",
       "       [[255., 255., 255.],\n",
       "        [255., 255., 255.],\n",
       "        [255., 255., 255.],\n",
       "        ...,\n",
       "        [255., 255., 255.],\n",
       "        [255., 255., 255.],\n",
       "        [255., 255., 255.]],\n",
       "\n",
       "       ...,\n",
       "\n",
       "       [[255., 255., 255.],\n",
       "        [255., 255., 255.],\n",
       "        [255., 255., 255.],\n",
       "        ...,\n",
       "        [255., 255., 255.],\n",
       "        [255., 255., 255.],\n",
       "        [255., 255., 255.]],\n",
       "\n",
       "       [[255., 255., 255.],\n",
       "        [255., 255., 255.],\n",
       "        [255., 255., 255.],\n",
       "        ...,\n",
       "        [255., 255., 255.],\n",
       "        [255., 255., 255.],\n",
       "        [255., 255., 255.]],\n",
       "\n",
       "       [[255., 255., 255.],\n",
       "        [255., 255., 255.],\n",
       "        [255., 255., 255.],\n",
       "        ...,\n",
       "        [255., 255., 255.],\n",
       "        [255., 255., 255.],\n",
       "        [255., 255., 255.]]], dtype=float32)"
      ]
     },
     "execution_count": 315,
     "metadata": {},
     "output_type": "execute_result"
    }
   ],
   "source": [
    "x"
   ]
  },
  {
   "cell_type": "code",
   "execution_count": 316,
   "id": "272ed838",
   "metadata": {},
   "outputs": [
    {
     "data": {
      "text/plain": [
       "(96, 96, 3)"
      ]
     },
     "execution_count": 316,
     "metadata": {},
     "output_type": "execute_result"
    }
   ],
   "source": [
    "x.shape"
   ]
  },
  {
   "cell_type": "code",
   "execution_count": 317,
   "id": "802a3617",
   "metadata": {},
   "outputs": [],
   "source": [
    "x=np.expand_dims(x,axis=0) #so that cnn can accept the model it accept 4 dims"
   ]
  },
  {
   "cell_type": "code",
   "execution_count": 318,
   "id": "93d38a63",
   "metadata": {},
   "outputs": [
    {
     "data": {
      "text/plain": [
       "(1, 96, 96, 3)"
      ]
     },
     "execution_count": 318,
     "metadata": {},
     "output_type": "execute_result"
    }
   ],
   "source": [
    "x.shape"
   ]
  },
  {
   "cell_type": "code",
   "execution_count": 319,
   "id": "d66c874c",
   "metadata": {},
   "outputs": [
    {
     "data": {
      "text/plain": [
       "array([[0., 0., 0., 0., 0., 1., 0., 0., 0., 0.]], dtype=float32)"
      ]
     },
     "execution_count": 319,
     "metadata": {},
     "output_type": "execute_result"
    }
   ],
   "source": [
    "y=model.predict(x)\n",
    "y"
   ]
  },
  {
   "cell_type": "code",
   "execution_count": null,
   "id": "e4ace9ab",
   "metadata": {},
   "outputs": [],
   "source": []
  },
  {
   "cell_type": "code",
   "execution_count": 320,
   "id": "1c3b4155",
   "metadata": {},
   "outputs": [
    {
     "data": {
      "text/plain": [
       "{'bears': 0,\n",
       " 'cats': 1,\n",
       " 'crows': 2,\n",
       " 'dogs': 3,\n",
       " 'elephants': 4,\n",
       " 'lion': 5,\n",
       " 'panda': 6,\n",
       " 'racoons': 7,\n",
       " 'rats': 8,\n",
       " 'tiger': 9}"
      ]
     },
     "execution_count": 320,
     "metadata": {},
     "output_type": "execute_result"
    }
   ],
   "source": [
    "x_train.class_indices"
   ]
  },
  {
   "cell_type": "code",
   "execution_count": 321,
   "id": "a005bc87",
   "metadata": {},
   "outputs": [],
   "source": [
    "pred=np.argmax(y,axis=1)"
   ]
  },
  {
   "cell_type": "code",
   "execution_count": 322,
   "id": "ea441087",
   "metadata": {},
   "outputs": [
    {
     "data": {
      "text/plain": [
       "array([5], dtype=int64)"
      ]
     },
     "execution_count": 322,
     "metadata": {},
     "output_type": "execute_result"
    }
   ],
   "source": [
    "pred"
   ]
  },
  {
   "cell_type": "code",
   "execution_count": 323,
   "id": "ad7d2a9b",
   "metadata": {},
   "outputs": [],
   "source": [
    "index=['bears','cats','crows','dogs','elephants','lion','panda','racoons','rats','tiger']\n",
    "result=index[pred[0]]"
   ]
  },
  {
   "cell_type": "code",
   "execution_count": 324,
   "id": "cf971445",
   "metadata": {},
   "outputs": [
    {
     "data": {
      "text/plain": [
       "'lion'"
      ]
     },
     "execution_count": 324,
     "metadata": {},
     "output_type": "execute_result"
    }
   ],
   "source": [
    "result"
   ]
  },
  {
   "cell_type": "code",
   "execution_count": 332,
   "id": "9a8c2104",
   "metadata": {},
   "outputs": [
    {
     "data": {
      "image/png": "[encoded data removed]",
      "text/plain": [
       "<PIL.Image.Image image mode=RGB size=96x96 at 0x2078B141100>"
      ]
     },
     "execution_count": 332,
     "metadata": {},
     "output_type": "execute_result"
    }
   ],
   "source": [
    "img1=image.load_img(r\"panda1.jpg\",target_size=(96,96))\n",
    "img1"
   ]
  },
  {
   "cell_type": "code",
   "execution_count": 342,
   "id": "bda6b897",
   "metadata": {},
   "outputs": [
    {
     "data": {
      "text/plain": [
       "array([[[ 80.,  88.,  65.],\n",
       "        [137., 144., 137.],\n",
       "        [135., 138., 127.],\n",
       "        ...,\n",
       "        [ 54.,  92.,  45.],\n",
       "        [ 74.,  97.,  51.],\n",
       "        [104., 129.,  71.]],\n",
       "\n",
       "       [[191., 191., 189.],\n",
       "        [165., 163., 150.],\n",
       "        [187., 193., 193.],\n",
       "        ...,\n",
       "        [ 57.,  97.,  45.],\n",
       "        [ 89., 115.,  70.],\n",
       "        [ 84., 124.,  71.]],\n",
       "\n",
       "       [[ 40.,  39.,  45.],\n",
       "        [129., 135., 125.],\n",
       "        [139., 141., 136.],\n",
       "        ...,\n",
       "        [ 70., 108.,  61.],\n",
       "        [ 90., 124.,  73.],\n",
       "        [ 84., 124.,  62.]],\n",
       "\n",
       "       ...,\n",
       "\n",
       "       [[155., 202., 147.],\n",
       "        [132., 180., 128.],\n",
       "        [ 45.,  57.,  53.],\n",
       "        ...,\n",
       "        [ 81.,  80.,  78.],\n",
       "        [154., 161., 153.],\n",
       "        [106., 107., 101.]],\n",
       "\n",
       "       [[146., 194., 132.],\n",
       "        [146., 198., 136.],\n",
       "        [ 88., 132.,  97.],\n",
       "        ...,\n",
       "        [165., 159., 161.],\n",
       "        [ 24.,  30.,  26.],\n",
       "        [206., 207., 202.]],\n",
       "\n",
       "       [[133., 188., 123.],\n",
       "        [145., 199., 137.],\n",
       "        [117., 168., 127.],\n",
       "        ...,\n",
       "        [ 89.,  92.,  83.],\n",
       "        [ 78.,  84.,  82.],\n",
       "        [ 64.,  67.,  72.]]], dtype=float32)"
      ]
     },
     "execution_count": 342,
     "metadata": {},
     "output_type": "execute_result"
    }
   ],
   "source": [
    "x=image.img_to_array(img1)\n",
    "x"
   ]
  },
  {
   "cell_type": "code",
   "execution_count": 334,
   "id": "8d197de8",
   "metadata": {},
   "outputs": [],
   "source": [
    "x=np.expand_dims(x,axis=0) "
   ]
  },
  {
   "cell_type": "code",
   "execution_count": 335,
   "id": "1078b80d",
   "metadata": {},
   "outputs": [
    {
     "data": {
      "text/plain": [
       "(1, 96, 96, 3)"
      ]
     },
     "execution_count": 335,
     "metadata": {},
     "output_type": "execute_result"
    }
   ],
   "source": [
    "x.shape"
   ]
  },
  {
   "cell_type": "code",
   "execution_count": 336,
   "id": "fc7ba7b1",
   "metadata": {},
   "outputs": [
    {
     "data": {
      "text/plain": [
       "array([[0., 0., 0., 0., 0., 0., 1., 0., 0., 0.]], dtype=float32)"
      ]
     },
     "execution_count": 336,
     "metadata": {},
     "output_type": "execute_result"
    }
   ],
   "source": [
    "y=model.predict(x)\n",
    "y"
   ]
  },
  {
   "cell_type": "code",
   "execution_count": 339,
   "id": "b1c4191d",
   "metadata": {},
   "outputs": [
    {
     "data": {
      "text/plain": [
       "array([6], dtype=int64)"
      ]
     },
     "execution_count": 339,
     "metadata": {},
     "output_type": "execute_result"
    }
   ],
   "source": [
    "pr=np.argmax(y,axis=1)\n",
    "pr"
   ]
  },
  {
   "cell_type": "code",
   "execution_count": 340,
   "id": "9aee4559",
   "metadata": {},
   "outputs": [
    {
     "data": {
      "text/plain": [
       "'panda'"
      ]
     },
     "execution_count": 340,
     "metadata": {},
     "output_type": "execute_result"
    }
   ],
   "source": [
    "result=index[pr[0]]\n",
    "result"
   ]
  },
  {
   "cell_type": "code",
   "execution_count": null,
   "id": "6a004b09",
   "metadata": {},
   "outputs": [],
   "source": []
  }
 ],
 "metadata": {
  "kernelspec": {
   "display_name": "Python 3 (ipykernel)",
   "language": "python",
   "name": "python3"
  },
  "language_info": {
   "codemirror_mode": {
    "name": "ipython",
    "version": 3
   },
   "file_extension": ".py",
   "mimetype": "text/x-python",
   "name": "python",
   "nbconvert_exporter": "python",
   "pygments_lexer": "ipython3",
   "version": "3.9.7"
  }
 },
 "nbformat": 4,
 "nbformat_minor": 5
}
